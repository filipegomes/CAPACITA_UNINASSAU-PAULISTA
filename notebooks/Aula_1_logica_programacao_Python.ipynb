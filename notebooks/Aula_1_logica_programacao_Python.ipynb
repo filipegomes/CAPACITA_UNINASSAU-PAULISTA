{
  "nbformat": 4,
  "nbformat_minor": 0,
  "metadata": {
    "colab": {
      "name": "Aula-1_logica-programacao_Python.ipynb",
      "provenance": [],
      "collapsed_sections": [],
      "authorship_tag": "ABX9TyOH2GNWuopIipgTbw1RmqAh",
      "include_colab_link": true
    },
    "kernelspec": {
      "name": "python3",
      "display_name": "Python 3"
    },
    "language_info": {
      "name": "python"
    }
  },
  "cells": [
    {
      "cell_type": "markdown",
      "metadata": {
        "id": "view-in-github",
        "colab_type": "text"
      },
      "source": [
        "<a href=\"https://colab.research.google.com/github/filipegomes/CAPACITA_UNINASSAU-PAULISTA/blob/main/notebooks/Aula_1_logica_programacao_Python.ipynb\" target=\"_parent\"><img src=\"https://colab.research.google.com/assets/colab-badge.svg\" alt=\"Open In Colab\"/></a>"
      ]
    },
    {
      "cell_type": "markdown",
      "metadata": {
        "id": "Dz9jjZkF2HQU"
      },
      "source": [
        "# Aula 1: Introdução à Linguagem de Programação **Python**\n",
        "\n",
        "\n",
        "---\n",
        "\n",
        "###Bem vindo ao Google Colaboratory!\n",
        "\n",
        "Nós iremos utilizar essa plataforma para fazer nossas atividades com o Python. Vamos fazer alguns testes?\n",
        "\n",
        "\n"
      ]
    },
    {
      "cell_type": "markdown",
      "metadata": {
        "id": "fz7ZkbKV8G-J"
      },
      "source": [
        "Vamos começar printando uma mensagem no console! Para isso, escreva `print(\"Olá Mundo!\")` na célula de código abaixo. Para executar você pode usar uma combinação de teclas como shift e Enter, ou ctrl e Enter. Também é possível executar utilizando o símbolo   <img width= \"25\" src = 'https://github.com/filipegomes/logica_programacao_aulas/blob/main/images/play_icon.png?raw=true'>   no lado esquerdo da célula."
      ]
    },
    {
      "cell_type": "code",
      "source": [
        ""
      ],
      "metadata": {
        "id": "Bco3ilbtaLLF"
      },
      "execution_count": null,
      "outputs": []
    },
    {
      "cell_type": "markdown",
      "metadata": {
        "id": "sK7zTiuYG_WC"
      },
      "source": [
        "Abaixo, exemplos de comentários. Não são executados."
      ]
    },
    {
      "cell_type": "code",
      "metadata": {
        "id": "ep5zCFyZ8fVG"
      },
      "source": [
        "'''\n",
        "\n",
        "Isso é um comentário\n",
        "com várias linhas!\n",
        "\n",
        "'''\n",
        "#Esse é um comentário com uma linha!"
      ],
      "execution_count": null,
      "outputs": []
    },
    {
      "cell_type": "markdown",
      "metadata": {
        "id": "4Dm9ps696bRj"
      },
      "source": [
        "Já que estamos falando sobre prints em Python, vamos falar sobre alguns tipos possíveis:\n",
        "\n",
        "\n",
        "1. `print(\"Ola \"+nome)`\n",
        ">Esse tipo de impressão só pode ser utilizada quando a variável é do tipo String, pois realiza uma concatenação.\n",
        "\n",
        "2. `print(\"Ola {}\".format(nome))`\n",
        "\n",
        "3. `print(\"Ola\",nome)`\n",
        "\n",
        "4. `print(\"Ola %s\" % (nome))`\n",
        "\n",
        "5. `print(f\"Ola {nome}\")`\n",
        ">Vamos utilizar esse formato com mais frequência.\n",
        "\n",
        "Na célula abaixo, vamos criar uma variável com o identificador `nome` e atribuir como valor o seu nome. Após isso, vamos testar todos os tipos de `print` acima.\n",
        "\n",
        "\n",
        "\n",
        "\n",
        "\n",
        "\n",
        "\n",
        "\n",
        "\n",
        "\n",
        "\n"
      ]
    },
    {
      "cell_type": "code",
      "metadata": {
        "id": "wKgG1RJPArIm"
      },
      "source": [
        ""
      ],
      "execution_count": null,
      "outputs": []
    },
    {
      "cell_type": "markdown",
      "metadata": {
        "id": "cuDdqfIABlv7"
      },
      "source": [
        "## Operações Aritméticas \n",
        "\n",
        "Vamos fazer algumas operações simples?\n",
        "\n",
        "Aqui temos dois focos: conhecer os operadores aritméticos implementados no Python; e, executar operações com o Python."
      ]
    },
    {
      "cell_type": "markdown",
      "metadata": {
        "id": "RArKqCbsCIJ5"
      },
      "source": [
        "* Abaixo, podemos ver quais são os operadores matemáticos em Python:\n",
        "\n",
        "<img width= \"600\" src = 'https://github.com/filipegomes/logica_programacao_aulas/blob/main/images/Aula-01_Intro_Python%20(c%C3%B3pia).png?raw=true'> \n",
        "<img width= \"\" src = 'https://github.com/filipegomes/logica_programacao_aulas/blob/main/images/Aula-01_Intro_Python.png?raw=true'>\n",
        "\n",
        "Faça os seguintes cálculos:\n",
        "\n",
        "1. 130 + 150\n",
        "2. 40 - 20\n",
        "3. 5²\n",
        "4. 90 ÷ 3\n",
        "5. 21 // 2\n",
        "6. 21 % 2"
      ]
    },
    {
      "cell_type": "code",
      "metadata": {
        "id": "5lE8DxHvCcFC"
      },
      "source": [
        ""
      ],
      "execution_count": null,
      "outputs": []
    },
    {
      "cell_type": "code",
      "metadata": {
        "id": "rUVYqDihD3s1"
      },
      "source": [
        ""
      ],
      "execution_count": null,
      "outputs": []
    },
    {
      "cell_type": "code",
      "metadata": {
        "id": "4DhP2TpOD3lY"
      },
      "source": [
        ""
      ],
      "execution_count": null,
      "outputs": []
    },
    {
      "cell_type": "code",
      "metadata": {
        "id": "3dZhv1kHD3ev"
      },
      "source": [
        ""
      ],
      "execution_count": null,
      "outputs": []
    },
    {
      "cell_type": "code",
      "metadata": {
        "id": "0sbwQZQ9D3Nb"
      },
      "source": [
        ""
      ],
      "execution_count": null,
      "outputs": []
    },
    {
      "cell_type": "code",
      "metadata": {
        "id": "nwEc_XGqD9P-"
      },
      "source": [
        ""
      ],
      "execution_count": null,
      "outputs": []
    },
    {
      "cell_type": "markdown",
      "metadata": {
        "id": "ZwArjHXjEwhA"
      },
      "source": [
        "## Variáveis\n",
        "\n",
        "Vamos começar a trabalhar com variáveis!"
      ]
    },
    {
      "cell_type": "code",
      "metadata": {
        "id": "6lPD-cD8EUX9"
      },
      "source": [
        "#Execute essa célula!\n",
        "$nome = \"Eric Clapton\""
      ],
      "execution_count": null,
      "outputs": []
    },
    {
      "cell_type": "code",
      "metadata": {
        "id": "sJLAO6_9HQfw"
      },
      "source": [
        "#Execute essa tambem!\n",
        "9nome = \"Eric Clapton\""
      ],
      "execution_count": null,
      "outputs": []
    },
    {
      "cell_type": "code",
      "metadata": {
        "id": "EKO18VNdHe0t"
      },
      "source": [
        "#Exemplos de Variaveis Corretas:\n",
        "nome = \"Eric Clapton 1\"\n",
        "nome1 = \"Eric Clapton 2\"\n",
        "nome_1 = \"Eric Clapton 3\"\n",
        "nome_pessoa =\"Eric Clapton 4\"\n",
        "\n",
        "print(f\" nome: {nome} \\n nome1: {nome1} \\n \\\n",
        "nome_1: {nome_1} \\n nome_pessoa: {nome_pessoa}\")"
      ],
      "execution_count": null,
      "outputs": []
    },
    {
      "cell_type": "markdown",
      "metadata": {
        "id": "5Bc0Bi7tJKZa"
      },
      "source": [
        "* **CUIDADO!!!** Em Python, identificadores de variáveis funcionam como \n",
        "ponteiros, apenas apontam o endereço de memória onde os valores estão armazenados!\n",
        "\n",
        "Observe o comportamento abaixo:"
      ]
    },
    {
      "cell_type": "code",
      "metadata": {
        "id": "wZSCJ1Gx5y2C"
      },
      "source": [
        "x = [1,2,3] #Atribuímos a lista a X.\n",
        "y = x #Atribuímos a Y, o que está em X.\n",
        "\n",
        "\n",
        "print(f\"X é igual a {x}\")\n",
        "print(f\"Y é igual a {y}\")\n"
      ],
      "execution_count": null,
      "outputs": []
    },
    {
      "cell_type": "code",
      "metadata": {
        "id": "4em5UBxV4BCW"
      },
      "source": [
        "x.append(4) #Vamos adicionar à lista em X, o valor 4\n",
        "\n",
        "print(f\"X é igual a {x}\")\n",
        "print(f\"Y é igual a {y}\")"
      ],
      "execution_count": null,
      "outputs": []
    },
    {
      "cell_type": "code",
      "metadata": {
        "id": "GsvCjMgpi_qT"
      },
      "source": [
        ""
      ],
      "execution_count": null,
      "outputs": []
    },
    {
      "cell_type": "markdown",
      "metadata": {
        "id": "iTuQZ2f7LkGc"
      },
      "source": [
        "Variáveis terão um tipo de acordo com o valor que lhes for atribuído:"
      ]
    },
    {
      "cell_type": "code",
      "metadata": {
        "id": "iHgbjjGR4Fvw"
      },
      "source": [
        "a = 1\n",
        "type(a)"
      ],
      "execution_count": null,
      "outputs": []
    },
    {
      "cell_type": "code",
      "metadata": {
        "id": "MtBIsXtfLjbW"
      },
      "source": [
        "b = \"string\"\n",
        "type(b)"
      ],
      "execution_count": null,
      "outputs": []
    },
    {
      "cell_type": "code",
      "metadata": {
        "id": "8hN8EZWULjKV"
      },
      "source": [
        "c = 5.0\n",
        "type(c)"
      ],
      "execution_count": null,
      "outputs": []
    },
    {
      "cell_type": "code",
      "metadata": {
        "id": "CpoCJK3rL2UM"
      },
      "source": [
        "d = True\n",
        "type(d)"
      ],
      "execution_count": null,
      "outputs": []
    },
    {
      "cell_type": "code",
      "metadata": {
        "id": "GQvUpX1rQzN-"
      },
      "source": [
        "e = None #Tipo especial!\n",
        "type(e)"
      ],
      "execution_count": null,
      "outputs": []
    },
    {
      "cell_type": "markdown",
      "metadata": {
        "id": "ryYN9gz9MPwp"
      },
      "source": [
        "Podemos mudar os valores das variáveis, alterando inclusive o tipo:"
      ]
    },
    {
      "cell_type": "code",
      "metadata": {
        "id": "xtnN6CL0MB2A"
      },
      "source": [
        "website = \"google.com\"\n",
        "print(website)\n",
        "#imprimir tipo\n",
        "\n",
        "# Atribuindo novo valor:\n",
        "website = 111222333\n",
        "print(website)"
      ],
      "execution_count": null,
      "outputs": []
    },
    {
      "cell_type": "markdown",
      "metadata": {
        "id": "E9cKsi5iNED0"
      },
      "source": [
        "Também podemos atribuir diferentes valores a diferentes variáveis em uma mesma linha:\n",
        "\n",
        "Digamos que eu queira adicionar `27`, `\"Hendrix\"` e `8.5` as variáveis `idade`, `nome` e `nota`:"
      ]
    },
    {
      "cell_type": "code",
      "metadata": {
        "id": "LA_0nT10Mizs"
      },
      "source": [
        ""
      ],
      "execution_count": null,
      "outputs": []
    },
    {
      "cell_type": "markdown",
      "metadata": {
        "id": "Yp-YaCkPRlNN"
      },
      "source": [
        "**Uma curiosidade**: Em Python, os valores booleanos `True` e `False` possuem respectivamente os valores `1` e `0` atrelados aos valores booleanos. Veja:\n"
      ]
    },
    {
      "cell_type": "code",
      "metadata": {
        "id": "r28OEGv_PSQr"
      },
      "source": [
        ""
      ],
      "execution_count": null,
      "outputs": []
    },
    {
      "cell_type": "markdown",
      "metadata": {
        "id": "IdDwuDU9ZEcG"
      },
      "source": [
        "### Coleções em Python\n",
        "\n",
        "Os tipos não-primitivos, aos quais nos referiremos como **Coleções**, são estruturas de dados mais complexas e com muitas características. Em Python temos: **Listas** (`list`), **Tuplas** (`tuple`), **Dicionários** (`dict`) e **Conjuntos** (`set`)."
      ]
    },
    {
      "cell_type": "markdown",
      "metadata": {
        "id": "xNRMEOj2aKOX"
      },
      "source": [
        "#### LISTAS (list):"
      ]
    },
    {
      "cell_type": "markdown",
      "metadata": {
        "id": "y4Mmp7QqcH2R"
      },
      "source": [
        "Como declarar uma Lista:"
      ]
    },
    {
      "cell_type": "code",
      "metadata": {
        "id": "sEHlGJuyOcuj"
      },
      "source": [
        ""
      ],
      "execution_count": null,
      "outputs": []
    },
    {
      "cell_type": "markdown",
      "metadata": {
        "id": "y9z_NjzMfGmG"
      },
      "source": [
        "A função `list()` :"
      ]
    },
    {
      "cell_type": "code",
      "metadata": {
        "id": "2k0GDr3kfLgJ"
      },
      "source": [
        ""
      ],
      "execution_count": null,
      "outputs": []
    },
    {
      "cell_type": "markdown",
      "metadata": {
        "id": "yX9VGGVecMIm"
      },
      "source": [
        "Quais itens posso colocar numa lista?"
      ]
    },
    {
      "cell_type": "code",
      "metadata": {
        "id": "uibc6b6vcQC9"
      },
      "source": [
        ""
      ],
      "execution_count": null,
      "outputs": []
    },
    {
      "cell_type": "markdown",
      "metadata": {
        "id": "7Qo2HR23cQhN"
      },
      "source": [
        "Como indexar Listas?\n",
        "\n",
        "* Indexamento \"positivo\":"
      ]
    },
    {
      "cell_type": "code",
      "metadata": {
        "id": "bYoXo-D0cm3M"
      },
      "source": [
        ""
      ],
      "execution_count": null,
      "outputs": []
    },
    {
      "cell_type": "markdown",
      "metadata": {
        "id": "XxkV_EJBdeZk"
      },
      "source": [
        "* Indexamento \"negativo\":"
      ]
    },
    {
      "cell_type": "code",
      "metadata": {
        "id": "odhxxt9JdlSW"
      },
      "source": [
        ""
      ],
      "execution_count": null,
      "outputs": []
    },
    {
      "cell_type": "markdown",
      "metadata": {
        "id": "0VAVfWyfdmEc"
      },
      "source": [
        "* Fatiamento de Listas:"
      ]
    },
    {
      "cell_type": "code",
      "metadata": {
        "id": "o2pih8Hgdp_j"
      },
      "source": [
        ""
      ],
      "execution_count": null,
      "outputs": []
    },
    {
      "cell_type": "markdown",
      "metadata": {
        "id": "Kg4Ec5aeg7IA"
      },
      "source": [
        "Substituindo valores de uma Lista através do Índice:\n",
        "* Um item `lista[indice]`;\n",
        "* Vários itens `lista[inicio:fim]`;"
      ]
    },
    {
      "cell_type": "code",
      "metadata": {
        "id": "xs2MVAsdhCmD"
      },
      "source": [
        ""
      ],
      "execution_count": null,
      "outputs": []
    },
    {
      "cell_type": "markdown",
      "metadata": {
        "id": "l8o81m7QkiA5"
      },
      "source": [
        "Juntando Listas:"
      ]
    },
    {
      "cell_type": "code",
      "metadata": {
        "id": "VqhXxJ16khaw"
      },
      "source": [
        ""
      ],
      "execution_count": null,
      "outputs": []
    },
    {
      "cell_type": "markdown",
      "metadata": {
        "id": "zH5DOzWWaO68"
      },
      "source": [
        "#### TUPLAS(tuple):"
      ]
    },
    {
      "cell_type": "markdown",
      "metadata": {
        "id": "9-SI0-_blN69"
      },
      "source": [
        "Como declarar uma **Tupla**:"
      ]
    },
    {
      "cell_type": "code",
      "metadata": {
        "id": "ElTFrH2JlN6_"
      },
      "source": [
        ""
      ],
      "execution_count": null,
      "outputs": []
    },
    {
      "cell_type": "markdown",
      "metadata": {
        "id": "-rndgi9PlN6_"
      },
      "source": [
        "A função `tuple()` :"
      ]
    },
    {
      "cell_type": "code",
      "metadata": {
        "id": "_OdOmhxWlN6_"
      },
      "source": [
        ""
      ],
      "execution_count": null,
      "outputs": []
    },
    {
      "cell_type": "markdown",
      "metadata": {
        "id": "f3epA-ielN7A"
      },
      "source": [
        "Quais itens posso colocar numa Tupla?"
      ]
    },
    {
      "cell_type": "code",
      "metadata": {
        "id": "QRSibtx6lN7B"
      },
      "source": [
        ""
      ],
      "execution_count": null,
      "outputs": []
    },
    {
      "cell_type": "markdown",
      "metadata": {
        "id": "ewFtksLklN7C"
      },
      "source": [
        "Como indexar Tupla?\n",
        "\n",
        "* Indexamento \"positivo\", \"negativo\", fatiamento **funcionam exatamente da mesma forma que em Listas**."
      ]
    },
    {
      "cell_type": "markdown",
      "metadata": {
        "id": "50889Vjjl3-M"
      },
      "source": [
        "**Tuplas** não podem ser alteradas ou atualizadas depois de prontas. Porém, dentro da programação temos um campo de estudo chamado de \"*Ciência dos Artifícios Técnicos*\", em inglês chamamos de \"*The Work Around Science*\" e em Francês falamos \"*La Science des Solutions Alternatives*\"... Ou para os íntimos, **GAMBIARRA**!\n",
        "\n",
        "Para se alterar uma **TUPLA**, basta transformá-la numa **LISTA** e depois numa **TUPLA** novamente! =)"
      ]
    },
    {
      "cell_type": "code",
      "metadata": {
        "id": "sMRSPNfcnwDZ"
      },
      "source": [
        ""
      ],
      "execution_count": null,
      "outputs": []
    },
    {
      "cell_type": "code",
      "metadata": {
        "id": "ZMQT6fpRn3JB"
      },
      "source": [
        ""
      ],
      "execution_count": null,
      "outputs": []
    },
    {
      "cell_type": "markdown",
      "metadata": {
        "id": "MGvpbCqJpCKD"
      },
      "source": [
        "Uma alteração permitida, é adicionar **Tuplas** em **Tuplas**:\n",
        "\n",
        "```\n",
        "thistuple = (\"a\", \"b\", \"c\")\n",
        "y = (\"d\",) #que negócio é esse de item e vírgula?? Se não colocar, não é tupla!\n",
        "thistuple += y\n",
        "```\n"
      ]
    },
    {
      "cell_type": "code",
      "metadata": {
        "id": "Zg3WM76epP4q"
      },
      "source": [
        ""
      ],
      "execution_count": null,
      "outputs": []
    },
    {
      "cell_type": "markdown",
      "metadata": {
        "id": "qSjGZyd0agrn"
      },
      "source": [
        "#### CONJUNTOS(set):"
      ]
    },
    {
      "cell_type": "markdown",
      "metadata": {
        "id": "jEW-BAUfvDTu"
      },
      "source": [
        "Como declarar uma **Set**:"
      ]
    },
    {
      "cell_type": "code",
      "metadata": {
        "id": "LjwFxr_wvDUE"
      },
      "source": [
        ""
      ],
      "execution_count": null,
      "outputs": []
    },
    {
      "cell_type": "markdown",
      "metadata": {
        "id": "cvjgJissvDUI"
      },
      "source": [
        "A função `set()` :"
      ]
    },
    {
      "cell_type": "code",
      "metadata": {
        "id": "rdZYPzALvDUK"
      },
      "source": [
        ""
      ],
      "execution_count": null,
      "outputs": []
    },
    {
      "cell_type": "markdown",
      "metadata": {
        "id": "UAcJTmXtvDUL"
      },
      "source": [
        "Quais itens posso colocar numa Set?"
      ]
    },
    {
      "cell_type": "code",
      "metadata": {
        "id": "shs6ESuavDUN"
      },
      "source": [
        ""
      ],
      "execution_count": null,
      "outputs": []
    },
    {
      "cell_type": "markdown",
      "metadata": {
        "id": "EoJDvuMyxAc1"
      },
      "source": [
        "#### DICIONÁRIOS (set)"
      ]
    },
    {
      "cell_type": "markdown",
      "source": [
        ""
      ],
      "metadata": {
        "id": "enP0SCpbee0-"
      }
    },
    {
      "cell_type": "markdown",
      "metadata": {
        "id": "CGK47CTWxHp5"
      },
      "source": [
        "Como declarar um **Dicionário**:"
      ]
    },
    {
      "cell_type": "code",
      "metadata": {
        "id": "SANxcSN8xHp6"
      },
      "source": [
        ""
      ],
      "execution_count": null,
      "outputs": []
    },
    {
      "cell_type": "markdown",
      "metadata": {
        "id": "nARuqCR1xHp9"
      },
      "source": [
        "Quais itens posso colocar num dicionário?"
      ]
    },
    {
      "cell_type": "code",
      "metadata": {
        "id": "Brp-SBoxxHp8"
      },
      "source": [
        ""
      ],
      "execution_count": null,
      "outputs": []
    },
    {
      "cell_type": "markdown",
      "metadata": {
        "id": "N9l0RmqOxHp8"
      },
      "source": [
        "É possível utilizar as chaves como índices?"
      ]
    },
    {
      "cell_type": "code",
      "metadata": {
        "id": "gW0EcfGCxHp-"
      },
      "source": [
        ""
      ],
      "execution_count": null,
      "outputs": []
    },
    {
      "cell_type": "markdown",
      "metadata": {
        "id": "K0oqKm3QySzX"
      },
      "source": [
        "Adicionando pares em um Dicionário:"
      ]
    },
    {
      "cell_type": "code",
      "metadata": {
        "id": "wvRYwvv2ySDS"
      },
      "source": [
        ""
      ],
      "execution_count": null,
      "outputs": []
    },
    {
      "cell_type": "markdown",
      "metadata": {
        "id": "ScT5MV7FybhT"
      },
      "source": [
        "Alterando valores a partir da Chave/Índice:"
      ]
    },
    {
      "cell_type": "code",
      "metadata": {
        "id": "nH2YqWJYyXYy"
      },
      "source": [
        ""
      ],
      "execution_count": null,
      "outputs": []
    }
  ]
}